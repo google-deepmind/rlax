{
  "nbformat": 4,
  "nbformat_minor": 0,
  "metadata": {
    "colab": {
      "name": "haiku_rlax_dqn.ipynb",
      "provenance": [],
      "collapsed_sections": []
    },
    "kernelspec": {
      "name": "python3",
      "display_name": "Python 3"
    }
  },
  "cells": [
    {
      "cell_type": "code",
      "metadata": {
        "id": "4pIOiL-0Anbk",
        "colab_type": "code",
        "colab": {}
      },
      "source": [
        "!pip install git+https://github.com/deepmind/dm-haiku > /dev/null 2>&1\n",
        "!pip install git+git://github.com/deepmind/rlax.git > /dev/null 2>&1"
      ],
      "execution_count": 0,
      "outputs": []
    },
    {
      "cell_type": "code",
      "metadata": {
        "id": "4eQlCblNDGrH",
        "colab_type": "code",
        "colab": {}
      },
      "source": [
        "import jax\n",
        "from jax import jit, grad, vmap\n",
        "import jax.numpy as jnp\n",
        "from jax.experimental import optix\n",
        "import haiku as hk\n",
        "import rlax\n",
        "\n",
        "import gym\n",
        "from functools import partial\n",
        "import numpy as np\n",
        "\n",
        "import random\n",
        "from IPython.display import clear_output\n",
        "from collections import deque\n",
        "from typing import Callable, Mapping, NamedTuple, Tuple, Sequence\n",
        "\n",
        "import matplotlib.pyplot as plt\n",
        "%matplotlib inline\n",
        "COLOR = 'white'\n",
        "plt.rcParams['text.color'] = COLOR\n",
        "plt.rcParams['axes.labelcolor'] = COLOR\n",
        "plt.rcParams['xtick.color'] = COLOR\n",
        "plt.rcParams['ytick.color'] = COLOR"
      ],
      "execution_count": 0,
      "outputs": []
    },
    {
      "cell_type": "markdown",
      "metadata": {
        "id": "yef_tPghS9FJ",
        "colab_type": "text"
      },
      "source": [
        "# Hyperparameters"
      ]
    },
    {
      "cell_type": "code",
      "metadata": {
        "id": "wjgKYsIVPlZN",
        "colab_type": "code",
        "colab": {}
      },
      "source": [
        "NUM_EPISODES = 5000\n",
        "BATCH_SIZE   = 32\n",
        "GAMMA        = 0.99\n",
        "LEARNING_RATE = 1e-3\n",
        "SEED = 1729 "
      ],
      "execution_count": 0,
      "outputs": []
    },
    {
      "cell_type": "markdown",
      "metadata": {
        "id": "WBzNHJvrEk1m",
        "colab_type": "text"
      },
      "source": [
        "# Replay Buffer"
      ]
    },
    {
      "cell_type": "code",
      "metadata": {
        "id": "mKlgrYUnEkJz",
        "colab_type": "code",
        "colab": {}
      },
      "source": [
        "class ReplayBuffer(object):\n",
        "    def __init__(self, capacity):\n",
        "        self.buffer = deque(maxlen=capacity)\n",
        "    \n",
        "    def push(self, state, action, reward, next_state, done):\n",
        "        state      = jnp.expand_dims(state, 0)\n",
        "        next_state = jnp.expand_dims(next_state, 0)\n",
        "            \n",
        "        self.buffer.append((state, action, reward, next_state, done))\n",
        "    \n",
        "    def sample(self, batch_size):\n",
        "        state, action, reward, next_state, done = zip(*random.sample(self.buffer, batch_size))\n",
        "        return (jnp.concatenate(state), jnp.concatenate(next_state), \n",
        "                jnp.asarray(action), jnp.asarray(reward), \n",
        "                (1.-jnp.asarray(done, dtype=jnp.float32))*GAMMA)\n",
        "    \n",
        "    def __len__(self):\n",
        "        return len(self.buffer)"
      ],
      "execution_count": 0,
      "outputs": []
    },
    {
      "cell_type": "markdown",
      "metadata": {
        "id": "5J5Rej6FEzS4",
        "colab_type": "text"
      },
      "source": [
        "# $\\epsilon$-Greedy schedule\n"
      ]
    },
    {
      "cell_type": "code",
      "metadata": {
        "id": "pEpq5u9nF4-s",
        "colab_type": "code",
        "colab": {}
      },
      "source": [
        "epsilon_start = 1.0\n",
        "epsilon_final = 0.01\n",
        "epsilon_decay = 500\n",
        "\n",
        "epsilon_by_frame = lambda frame_idx: epsilon_final + (epsilon_start - epsilon_final) * jnp.exp(-1. * frame_idx / epsilon_decay)"
      ],
      "execution_count": 0,
      "outputs": []
    },
    {
      "cell_type": "markdown",
      "metadata": {
        "id": "CKgQoL1hGZJ0",
        "colab_type": "text"
      },
      "source": [
        "#Plotting"
      ]
    },
    {
      "cell_type": "code",
      "metadata": {
        "id": "doS4DCdeGb06",
        "colab_type": "code",
        "colab": {}
      },
      "source": [
        "def plot(frame_idx, rewards, losses):\n",
        "    clear_output(True)\n",
        "    plt.figure(figsize=(20,5))\n",
        "    plt.subplot(131)\n",
        "    plt.title('frame %s. reward: %s' % (frame_idx, np.mean(rewards[-10:])))\n",
        "    plt.plot(rewards)\n",
        "    plt.subplot(132)\n",
        "    plt.title('loss')\n",
        "    plt.plot(losses)\n",
        "    plt.show()"
      ],
      "execution_count": 0,
      "outputs": []
    },
    {
      "cell_type": "markdown",
      "metadata": {
        "id": "dxurTORcGgWu",
        "colab_type": "text"
      },
      "source": [
        "#Training "
      ]
    },
    {
      "cell_type": "code",
      "metadata": {
        "id": "AHicBlfoGj8F",
        "colab_type": "code",
        "colab": {}
      },
      "source": [
        "def build_network(num_actions: int) -> hk.Transformed:\n",
        "\n",
        "  def q(obs):\n",
        "    network = hk.Sequential(\n",
        "        [hk.Linear(128), jax.nn.relu, hk.Linear(128), jax.nn.relu,\n",
        "         hk.Linear(num_actions)])\n",
        "    return network(obs)\n",
        "\n",
        "  return hk.transform(q)"
      ],
      "execution_count": 0,
      "outputs": []
    },
    {
      "cell_type": "code",
      "metadata": {
        "id": "fxZGv5KlPuYP",
        "colab_type": "code",
        "colab": {}
      },
      "source": [
        "def main():\n",
        "  # Build env\n",
        "  env_id = \"CartPole-v0\"\n",
        "  env = gym.make(env_id)\n",
        "  replay_buffer = ReplayBuffer(2000)\n",
        "\n",
        "  #logging\n",
        "  losses = []\n",
        "  all_rewards = []\n",
        "  episode_reward = 0\n",
        "\n",
        "  # Build and initialize DQN\n",
        "  num_actions = env.action_space.n\n",
        "  network = build_network(num_actions)\n",
        "  sample_input = env.reset()\n",
        "  rng = hk.PRNGSequence(jax.random.PRNGKey(SEED))\n",
        "  net_params = network.init(next(rng), sample_input)\n",
        "  target_params = net_params\n",
        "\n",
        "   # Build and initialize optimizer.\n",
        "  optimizer = optix.adam(LEARNING_RATE)\n",
        "  opt_state = optimizer.init(net_params) \n",
        "\n",
        "  @jax.jit\n",
        "  def policy(net_params, key, obs, epsilon):\n",
        "    \"\"\"Sample action from epsilon-greedy policy.\"\"\"\n",
        "    q = network.apply(net_params, obs)\n",
        "    a = rlax.epsilon_greedy(epsilon).sample(key, q)\n",
        "    return a\n",
        "\n",
        "  @jax.jit\n",
        "  def eval_policy(net_params, key, obs):\n",
        "    \"\"\"Sample action from greedy policy.\"\"\"\n",
        "    q = network.apply(net_params, obs)\n",
        "    return rlax.greedy().sample(key, q)\n",
        "\n",
        "  batched_loss = vmap(rlax.double_q_learning)\n",
        "  @jax.jit\n",
        "  def update(net_params, target_params, opt_state, batch):\n",
        "    \"\"\"Update network weights wrt Q-learning loss.\"\"\"\n",
        "\n",
        "    def dqn_learning_loss(net_params, target_params, batch):\n",
        "      obs_tm1, obs_t, a_tm1, r_t, discount_t  = batch\n",
        "      q_tm1 = network.apply(net_params, obs_tm1)\n",
        "      q_t_value = network.apply(target_params, obs_t)\n",
        "      q_t_selector = network.apply(net_params, obs_t)\n",
        "\n",
        "      td_error = batched_loss(q_tm1, a_tm1, r_t, discount_t, q_t_value, \n",
        "                              q_t_selector)\n",
        "      return jnp.mean(rlax.l2_loss(td_error))\n",
        "\n",
        "    loss, dloss_dtheta = jax.value_and_grad(dqn_learning_loss)(net_params, \n",
        "                                                         target_params, batch)\n",
        "    updates, opt_state = optimizer.update(dloss_dtheta, opt_state)\n",
        "    net_params = optix.apply_updates(net_params, updates)\n",
        "    return net_params, opt_state, loss\n",
        "\n",
        "  state = env.reset()\n",
        "  print(f\"Training agent for {NUM_EPISODES} episodes...\")\n",
        "  for idx in range(1, NUM_EPISODES+1):\n",
        "    epsilon = epsilon_by_frame(idx)\n",
        "\n",
        "    #Act in the environment and update replay_buffer\n",
        "    action = policy(net_params, next(rng), state, epsilon)  \n",
        "    next_state, reward, done, _ = env.step(int(action))\n",
        "    replay_buffer.push(state, action, reward, next_state, done)\n",
        "    \n",
        "  \n",
        "    state = next_state\n",
        "    episode_reward += reward\n",
        "\n",
        "    if done:\n",
        "        state = env.reset()\n",
        "        all_rewards.append(episode_reward)\n",
        "        episode_reward = 0\n",
        "        \n",
        "    if len(replay_buffer) > BATCH_SIZE:\n",
        "      batch = replay_buffer.sample(BATCH_SIZE)\n",
        "      net_params, opt_state, loss = update(net_params, target_params, \n",
        "                                           opt_state, batch)\n",
        "      losses.append(float(loss))\n",
        "        \n",
        "    if idx % 200 == 0:\n",
        "     plot(idx, all_rewards, losses)\n",
        "      \n",
        "    #Update Target model parameters\n",
        "    if idx % 100 == 0:\n",
        "      target_params = net_params"
      ],
      "execution_count": 0,
      "outputs": []
    },
    {
      "cell_type": "code",
      "metadata": {
        "id": "qyX6vhRoWfPU",
        "colab_type": "code",
        "outputId": "4caadf7a-531b-424f-a4ae-8dd9ba766284",
        "colab": {
          "base_uri": "https://localhost:8080/",
          "height": 336
        }
      },
      "source": [
        "main()"
      ],
      "execution_count": 9,
      "outputs": [
        {
          "output_type": "display_data",
          "data": {
            "image/png": "[encoded data removed]",
            "text/plain": [
              "<Figure size 1440x360 with 2 Axes>"
            ]
          },
          "metadata": {
            "tags": [],
            "needs_background": "dark"
          }
        }
      ]
    }
  ]
}